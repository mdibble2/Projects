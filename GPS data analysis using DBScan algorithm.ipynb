{
 "cells": [
  {
   "cell_type": "markdown",
   "metadata": {},
   "source": [
    "## DBSCAN clustering to find place where most time was spent in a day\n",
    "\n",
    "DBSCAN reference: http://geoffboeing.com/2014/08/visualizing-summer-travels/\n"
   ]
  },
  {
   "cell_type": "code",
   "execution_count": 1,
   "metadata": {
    "collapsed": true
   },
   "outputs": [],
   "source": [
    "# Import some initial libraries\n",
    "import pandas as pd, numpy as np, matplotlib.pyplot as plt, time\n",
    "from sklearn.cluster import DBSCAN\n",
    "from sklearn import metrics\n",
    "import math"
   ]
  },
  {
   "cell_type": "code",
   "execution_count": 2,
   "metadata": {
    "collapsed": true
   },
   "outputs": [],
   "source": [
    "# After install, import more libraries\n",
    "# These must be installed using the command above.\n",
    "from geopy.distance import great_circle \n",
    "from shapely.geometry import MultiPoint"
   ]
  },
  {
   "cell_type": "code",
   "execution_count": 3,
   "metadata": {
    "collapsed": true
   },
   "outputs": [],
   "source": [
    "# define the number of kilometers in one radian, a needed paramter\n",
    "kms_per_radian = 6371.0088"
   ]
  },
  {
   "cell_type": "markdown",
   "metadata": {},
   "source": [
    "### Read in data here"
   ]
  },
  {
   "cell_type": "code",
   "execution_count": 4,
   "metadata": {},
   "outputs": [
    {
     "name": "stdout",
     "output_type": "stream",
     "text": [
      "   obs  dateandtimestamp         lon        lat  sats   temp  \\\n",
      "0    0      180207173301 -120.663994  35.303253     8  73.84   \n",
      "1    1      180207173302 -120.664085  35.303272     8  73.84   \n",
      "2    2      180207173303 -120.664047  35.303341     9  73.84   \n",
      "3    3      180207173304 -120.664116  35.303329     9  73.84   \n",
      "4    4      180207173305 -120.664124  35.303329     9  73.84   \n",
      "\n",
      "           sample_time  \n",
      "0  2018-02-07 17:33:01  \n",
      "1  2018-02-07 17:33:02  \n",
      "2  2018-02-07 17:33:03  \n",
      "3  2018-02-07 17:33:04  \n",
      "4  2018-02-07 17:33:05  \n",
      "obs                 406740\n",
      "dateandtimestamp    406740\n",
      "lon                 406740\n",
      "lat                 406740\n",
      "sats                406740\n",
      "temp                406740\n",
      "sample_time         406740\n",
      "dtype: int64\n"
     ]
    }
   ],
   "source": [
    "# load the data set\n",
    "# df = pd.read_csv('gpslog58.csv', encoding='utf-8')\n",
    "df = pd.read_csv('alldata2.csv', encoding='utf-8') \n",
    "\n",
    "df.columns = ['obs','dateandtimestamp', 'lon', 'lat','sats','temp','sample_time']\n",
    "print df.head(5)\n",
    "print df.count()"
   ]
  },
  {
   "cell_type": "code",
   "execution_count": 5,
   "metadata": {},
   "outputs": [
    {
     "data": {
      "text/plain": [
       "obs                 162825\n",
       "dateandtimestamp    162825\n",
       "lon                 162825\n",
       "lat                 162825\n",
       "sats                162825\n",
       "temp                162825\n",
       "sample_time         162825\n",
       "dtype: int64"
      ]
     },
     "execution_count": 5,
     "metadata": {},
     "output_type": "execute_result"
    }
   ],
   "source": [
    "mask1= df.dateandtimestamp >= 180215160000 #enter start date here (8am)\n",
    "df1=df[mask1]\n",
    "df1.count()\n",
    "#need small data frame because of memory error"
   ]
  },
  {
   "cell_type": "code",
   "execution_count": 6,
   "metadata": {},
   "outputs": [
    {
     "data": {
      "text/plain": [
       "obs                 37281\n",
       "dateandtimestamp    37281\n",
       "lon                 37281\n",
       "lat                 37281\n",
       "sats                37281\n",
       "temp                37281\n",
       "sample_time         37281\n",
       "dtype: int64"
      ]
     },
     "execution_count": 6,
     "metadata": {},
     "output_type": "execute_result"
    }
   ],
   "source": [
    "mask2= df1.dateandtimestamp <= 180216060000 #enter finish date here (10pm)\n",
    "df2=df1[mask2]\n",
    "df2.count()"
   ]
  },
  {
   "cell_type": "code",
   "execution_count": 7,
   "metadata": {
    "collapsed": true
   },
   "outputs": [],
   "source": [
    "# To prepare for the DBSCAN, represent points consistently as (lat, lon) in a matrix data structure\n",
    "coords = df2.as_matrix(columns=['lat', 'lon'])"
   ]
  },
  {
   "cell_type": "code",
   "execution_count": 8,
   "metadata": {
    "collapsed": true
   },
   "outputs": [],
   "source": [
    "# define DBSCAN input paramters epsilon and min_samples\n",
    "# Read about the paramters here: http://scikit-learn.org/stable/modules/generated/sklearn.cluster.DBSCAN.html\n",
    "\n",
    "# epsilon is your guess on the max distance between stationary points\n",
    "# the units are in kilometers, so .03 would be .03 kilometers or 30 meters\n",
    "epsilon = 0.010 / kms_per_radian \n",
    "\n",
    "# minimum_samples, this is the number of datapoints required to be considered \"stationary\"\n",
    "# Remember, each datapoins is 1 second apart, so 30 or 60 (1 minute) or 300 (5 minutes)?\n",
    "ms = 300 # this represents 30 seconds in one place to be a stationary_point"
   ]
  },
  {
   "cell_type": "markdown",
   "metadata": {},
   "source": [
    "### DBSCAN"
   ]
  },
  {
   "cell_type": "code",
   "execution_count": 9,
   "metadata": {
    "collapsed": true
   },
   "outputs": [],
   "source": [
    "# This is the cell that calls the DBSCAN algorithm. This may take a long time, depending on\n",
    "# the number of points in your datafile. You must wait for the * in the In[*] to complete.\n",
    "# On a big dataset, this took about 5 minutes on my pretty powerful desktop\n",
    "\n",
    "db = DBSCAN(eps=epsilon, min_samples=ms, algorithm='ball_tree', metric='haversine').fit(np.radians(coords))\n",
    "cluster_labels = db.labels_\n",
    "num_clusters = len(set(cluster_labels))\n",
    "clusters = pd.Series([coords[cluster_labels == n] for n in range(num_clusters)])"
   ]
  },
  {
   "cell_type": "code",
   "execution_count": 10,
   "metadata": {},
   "outputs": [
    {
     "data": {
      "text/plain": [
       "array([-1,  0,  1,  2,  3,  4], dtype=int64)"
      ]
     },
     "execution_count": 10,
     "metadata": {},
     "output_type": "execute_result"
    }
   ],
   "source": [
    "np.unique(cluster_labels)"
   ]
  },
  {
   "cell_type": "code",
   "execution_count": 11,
   "metadata": {
    "collapsed": true
   },
   "outputs": [],
   "source": [
    "pd.options.mode.chained_assignment = None  # suppress default='warn'"
   ]
  },
  {
   "cell_type": "code",
   "execution_count": 12,
   "metadata": {},
   "outputs": [
    {
     "name": "stdout",
     "output_type": "stream",
     "text": [
      "           obs  dateandtimestamp         lon        lat  sats   temp  \\\n",
      "243915  243915      180215160000 -120.660507  35.299767     9  62.41   \n",
      "243916  243916      180215160001 -120.660507  35.299782     9  62.41   \n",
      "243917  243917      180215160002 -120.660515  35.299793     9  62.41   \n",
      "243918  243918      180215160003 -120.660530  35.299805     9  62.41   \n",
      "243919  243919      180215160004 -120.660530  35.299816     9  62.41   \n",
      "\n",
      "                sample_time  cluster_labels  \n",
      "243915  2018-02-15 16:00:00              -1  \n",
      "243916  2018-02-15 16:00:01              -1  \n",
      "243917  2018-02-15 16:00:02              -1  \n",
      "243918  2018-02-15 16:00:03              -1  \n",
      "243919  2018-02-15 16:00:04              -1  \n"
     ]
    }
   ],
   "source": [
    "# Add cluster labels column to original dataframe\n",
    "# so we know if each point is a \"stationary\" point (does NOT have a value of -1)\n",
    "# or if each point is a \"travel\" point (has a value of -1)\n",
    "df2['cluster_labels']=cluster_labels\n",
    "print df2.head(5)"
   ]
  },
  {
   "cell_type": "code",
   "execution_count": 13,
   "metadata": {
    "collapsed": true
   },
   "outputs": [],
   "source": [
    "# This cell takes the groups of stationary points (clusters) and calculates the \n",
    "# centermost point of each cluster. This would best represent the lat/lon of the cluster\n",
    "def get_centermost_point(cluster):\n",
    "    centroid = (MultiPoint(cluster).centroid.x, MultiPoint(cluster).centroid.y)\n",
    "    centermost_point = min(cluster, key=lambda point: great_circle(point, centroid).m)\n",
    "    return tuple(centermost_point)\n",
    "\n",
    "# This is a way to call the above function on every point in the staionary_points clusters\n",
    "vfunc = np.vectorize(get_centermost_point)\n",
    "centermost_points = vfunc(clusters[1:(len(clusters)-1)])"
   ]
  },
  {
   "cell_type": "markdown",
   "metadata": {},
   "source": [
    "### Analysis on Stationary Points"
   ]
  },
  {
   "cell_type": "code",
   "execution_count": 14,
   "metadata": {
    "collapsed": true
   },
   "outputs": [],
   "source": [
    "stationary_points2 = df2.loc[df2['cluster_labels'] != -1]"
   ]
  },
  {
   "cell_type": "code",
   "execution_count": 15,
   "metadata": {},
   "outputs": [
    {
     "name": "stdout",
     "output_type": "stream",
     "text": [
      "         lat         lon\n",
      "0  35.300808 -120.662415\n",
      "1  35.297527 -120.660988\n",
      "2  35.303242 -120.665009\n",
      "3  35.293953 -120.664330\n",
      "4\n"
     ]
    }
   ],
   "source": [
    "# Build a new dictionary that we will use to create a new DataFrame called stationary_points\n",
    "data = {'lon': centermost_points[1],\n",
    "       'lat': centermost_points[0]}\n",
    "# from these lats/lons create a new DataFrame of stationary points\n",
    "stationary_points = pd.DataFrame(data)\n",
    "print stationary_points.head(5)\n",
    "print len(stationary_points)"
   ]
  },
  {
   "cell_type": "code",
   "execution_count": 16,
   "metadata": {},
   "outputs": [
    {
     "name": "stdout",
     "output_type": "stream",
     "text": [
      "                   obs  dateandtimestamp         lon        lat  sats   temp  \\\n",
      "cluster_labels                                                                 \n",
      "0               243976      180215160103 -120.660965  35.300537     8  61.53   \n",
      "1               244274      180215160614 -120.662239  35.300907    10  61.53   \n",
      "2               247791      180215170724 -120.660873  35.297810    10  68.56   \n",
      "3               257484      180215200804 -120.664665  35.303062     7  74.71   \n",
      "4               263423      180215215123 -120.664314  35.294186     8  72.96   \n",
      "\n",
      "                        sample_time  \n",
      "cluster_labels                       \n",
      "0               2018-02-15 16:01:03  \n",
      "1               2018-02-15 16:06:14  \n",
      "2               2018-02-15 17:07:24  \n",
      "3               2018-02-15 20:08:04  \n",
      "4               2018-02-15 21:51:23  \n"
     ]
    },
    {
     "data": {
      "text/plain": [
       "obs                 5\n",
       "dateandtimestamp    5\n",
       "lon                 5\n",
       "lat                 5\n",
       "sats                5\n",
       "temp                5\n",
       "sample_time         5\n",
       "dtype: int64"
      ]
     },
     "execution_count": 16,
     "metadata": {},
     "output_type": "execute_result"
    }
   ],
   "source": [
    "#find elapsed time in each location\n",
    "df_time1=stationary_points2.groupby(['cluster_labels']).first() #first occurances of cluster label\n",
    "df_time2=stationary_points2.groupby(['cluster_labels']).last() #last occurances\n",
    "\n",
    "print df_time1.head(5)\n",
    "df_time1.count()"
   ]
  },
  {
   "cell_type": "code",
   "execution_count": 17,
   "metadata": {},
   "outputs": [
    {
     "name": "stdout",
     "output_type": "stream",
     "text": [
      "0 days 03:57:10\n"
     ]
    }
   ],
   "source": [
    "def elapsed (x): #function to calculate elaspsed time at cluster x\n",
    "    time2 = pd.to_datetime(df_time2.sample_time.loc[x])\n",
    "    time1 = pd.to_datetime(df_time1.sample_time.loc[x])\n",
    "    timedif = time2-time1\n",
    "    return timedif\n",
    "\n",
    "print (elapsed(1)) #test to see if it worked"
   ]
  },
  {
   "cell_type": "code",
   "execution_count": 18,
   "metadata": {},
   "outputs": [
    {
     "data": {
      "text/html": [
       "<div>\n",
       "<style>\n",
       "    .dataframe thead tr:only-child th {\n",
       "        text-align: right;\n",
       "    }\n",
       "\n",
       "    .dataframe thead th {\n",
       "        text-align: left;\n",
       "    }\n",
       "\n",
       "    .dataframe tbody tr th {\n",
       "        vertical-align: top;\n",
       "    }\n",
       "</style>\n",
       "<table border=\"1\" class=\"dataframe\">\n",
       "  <thead>\n",
       "    <tr style=\"text-align: right;\">\n",
       "      <th></th>\n",
       "      <th>elapsed_time</th>\n",
       "    </tr>\n",
       "  </thead>\n",
       "  <tbody>\n",
       "    <tr>\n",
       "      <th>0</th>\n",
       "      <td>0.0</td>\n",
       "    </tr>\n",
       "    <tr>\n",
       "      <th>1</th>\n",
       "      <td>0.0</td>\n",
       "    </tr>\n",
       "    <tr>\n",
       "      <th>2</th>\n",
       "      <td>0.0</td>\n",
       "    </tr>\n",
       "    <tr>\n",
       "      <th>3</th>\n",
       "      <td>0.0</td>\n",
       "    </tr>\n",
       "    <tr>\n",
       "      <th>4</th>\n",
       "      <td>0.0</td>\n",
       "    </tr>\n",
       "  </tbody>\n",
       "</table>\n",
       "</div>"
      ],
      "text/plain": [
       "   elapsed_time\n",
       "0           0.0\n",
       "1           0.0\n",
       "2           0.0\n",
       "3           0.0\n",
       "4           0.0"
      ]
     },
     "execution_count": 18,
     "metadata": {},
     "output_type": "execute_result"
    }
   ],
   "source": [
    "#set up dataframe\n",
    "elapsed_col = pd.DataFrame(np.zeros(len(df_time1.index))) #make empty dataframe\n",
    "elapsed_col.columns = ['elapsed_time'] # Give the column a name\n",
    "\n",
    "elapsed_col.tail(5) #check to see if it worked"
   ]
  },
  {
   "cell_type": "code",
   "execution_count": 19,
   "metadata": {},
   "outputs": [
    {
     "data": {
      "text/html": [
       "<div>\n",
       "<style>\n",
       "    .dataframe thead tr:only-child th {\n",
       "        text-align: right;\n",
       "    }\n",
       "\n",
       "    .dataframe thead th {\n",
       "        text-align: left;\n",
       "    }\n",
       "\n",
       "    .dataframe tbody tr th {\n",
       "        vertical-align: top;\n",
       "    }\n",
       "</style>\n",
       "<table border=\"1\" class=\"dataframe\">\n",
       "  <thead>\n",
       "    <tr style=\"text-align: right;\">\n",
       "      <th></th>\n",
       "      <th>elapsed_time</th>\n",
       "    </tr>\n",
       "  </thead>\n",
       "  <tbody>\n",
       "    <tr>\n",
       "      <th>0</th>\n",
       "      <td>0 days 03:59:36</td>\n",
       "    </tr>\n",
       "    <tr>\n",
       "      <th>1</th>\n",
       "      <td>0 days 03:57:10</td>\n",
       "    </tr>\n",
       "    <tr>\n",
       "      <th>2</th>\n",
       "      <td>0 days 01:49:37</td>\n",
       "    </tr>\n",
       "    <tr>\n",
       "      <th>3</th>\n",
       "      <td>0 days 01:24:30</td>\n",
       "    </tr>\n",
       "    <tr>\n",
       "      <th>4</th>\n",
       "      <td>0 days 05:09:45</td>\n",
       "    </tr>\n",
       "  </tbody>\n",
       "</table>\n",
       "</div>"
      ],
      "text/plain": [
       "      elapsed_time\n",
       "0  0 days 03:59:36\n",
       "1  0 days 03:57:10\n",
       "2  0 days 01:49:37\n",
       "3  0 days 01:24:30\n",
       "4  0 days 05:09:45"
      ]
     },
     "execution_count": 19,
     "metadata": {},
     "output_type": "execute_result"
    }
   ],
   "source": [
    "for index, row in elapsed_col.iterrows(): #fill empty dataframe with elapsed time values\n",
    "    elapsed_col.elapsed_time.loc[index]= elapsed(index)\n",
    "elapsed_col.head(10)"
   ]
  },
  {
   "cell_type": "code",
   "execution_count": 20,
   "metadata": {},
   "outputs": [
    {
     "name": "stdout",
     "output_type": "stream",
     "text": [
      "                       lon        lat     elapsed_time\n",
      "cluster_labels                                        \n",
      "0              -120.660965  35.300537  0 days 03:59:36\n",
      "1              -120.662239  35.300907  0 days 03:57:10\n",
      "2              -120.660873  35.297810  0 days 01:49:37\n",
      "3              -120.664665  35.303062  0 days 01:24:30\n",
      "4              -120.664314  35.294186  0 days 05:09:45\n",
      "lon                    -120.661\n",
      "lat                     35.3031\n",
      "elapsed_time    0 days 05:09:45\n",
      "dtype: object\n"
     ]
    }
   ],
   "source": [
    "places = pd.concat([df_time1,elapsed_col],axis=1) #combine data frame\n",
    "places = places.drop(['obs','dateandtimestamp','sats','temp','sample_time'],axis=1)\n",
    "print places\n",
    "print places.max()"
   ]
  },
  {
   "cell_type": "markdown",
   "metadata": {},
   "source": [
    "### Checking Results"
   ]
  },
  {
   "cell_type": "code",
   "execution_count": 21,
   "metadata": {
    "collapsed": true
   },
   "outputs": [],
   "source": [
    "#set up dataframe\n",
    "check_time = pd.DataFrame(np.zeros(len(places.index))) #make empty dataframe\n",
    "check_time.columns = ['check']"
   ]
  },
  {
   "cell_type": "code",
   "execution_count": 22,
   "metadata": {},
   "outputs": [
    {
     "data": {
      "text/html": [
       "<div>\n",
       "<style>\n",
       "    .dataframe thead tr:only-child th {\n",
       "        text-align: right;\n",
       "    }\n",
       "\n",
       "    .dataframe thead th {\n",
       "        text-align: left;\n",
       "    }\n",
       "\n",
       "    .dataframe tbody tr th {\n",
       "        vertical-align: top;\n",
       "    }\n",
       "</style>\n",
       "<table border=\"1\" class=\"dataframe\">\n",
       "  <thead>\n",
       "    <tr style=\"text-align: right;\">\n",
       "      <th></th>\n",
       "      <th>check</th>\n",
       "    </tr>\n",
       "  </thead>\n",
       "  <tbody>\n",
       "    <tr>\n",
       "      <th>0</th>\n",
       "      <td>3085.0</td>\n",
       "    </tr>\n",
       "    <tr>\n",
       "      <th>1</th>\n",
       "      <td>3259.0</td>\n",
       "    </tr>\n",
       "    <tr>\n",
       "      <th>2</th>\n",
       "      <td>5416.0</td>\n",
       "    </tr>\n",
       "    <tr>\n",
       "      <th>3</th>\n",
       "      <td>4008.0</td>\n",
       "    </tr>\n",
       "    <tr>\n",
       "      <th>4</th>\n",
       "      <td>17689.0</td>\n",
       "    </tr>\n",
       "  </tbody>\n",
       "</table>\n",
       "</div>"
      ],
      "text/plain": [
       "     check\n",
       "0   3085.0\n",
       "1   3259.0\n",
       "2   5416.0\n",
       "3   4008.0\n",
       "4  17689.0"
      ]
     },
     "execution_count": 22,
     "metadata": {},
     "output_type": "execute_result"
    }
   ],
   "source": [
    "for index, row in check_time.iterrows(): #fill empty dataframe with elapsed time values\n",
    "    df5 = stationary_points2[stationary_points2.cluster_labels == index]\n",
    "    check_time.check.loc[index]=len(df5)\n",
    "check_time.head(10)"
   ]
  },
  {
   "cell_type": "code",
   "execution_count": 23,
   "metadata": {},
   "outputs": [
    {
     "name": "stdout",
     "output_type": "stream",
     "text": [
      "                       lon        lat     elapsed_time    check\n",
      "cluster_labels                                                 \n",
      "4              -120.664314  35.294186  0 days 05:09:45  17689.0\n",
      "2              -120.660873  35.297810  0 days 01:49:37   5416.0\n",
      "3              -120.664665  35.303062  0 days 01:24:30   4008.0\n",
      "1              -120.662239  35.300907  0 days 03:57:10   3259.0\n",
      "0              -120.660965  35.300537  0 days 03:59:36   3085.0\n"
     ]
    }
   ],
   "source": [
    "#checked to make sure elapsed time made sense\n",
    "places2 = pd.concat([places,check_time],axis=1) #combine data frame\n",
    "print (places2.sort_values(by='check', ascending=False))"
   ]
  },
  {
   "cell_type": "markdown",
   "metadata": {},
   "source": [
    "### put in lat, lon in google maps"
   ]
  }
 ],
 "metadata": {
  "kernelspec": {
   "display_name": "Python 3",
   "language": "python",
   "name": "python3"
  },
  "language_info": {
   "codemirror_mode": {
    "name": "ipython",
    "version": 3
   },
   "file_extension": ".py",
   "mimetype": "text/x-python",
   "name": "python",
   "nbconvert_exporter": "python",
   "pygments_lexer": "ipython3",
   "version": "3.6.1"
  }
 },
 "nbformat": 4,
 "nbformat_minor": 2
}
