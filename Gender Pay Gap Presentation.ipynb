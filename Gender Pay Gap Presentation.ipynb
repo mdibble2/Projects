{
 "cells": [
  {
   "cell_type": "code",
   "execution_count": 1,
   "metadata": {
    "slideshow": {
     "slide_type": "skip"
    }
   },
   "outputs": [
    {
     "data": {
      "text/html": [
       "<script>\n",
       "code_show=true; \n",
       "function code_toggle() {\n",
       " if (code_show){\n",
       " $('div.input').hide();\n",
       " } else {\n",
       " $('div.input').show();\n",
       " }\n",
       " code_show = !code_show\n",
       "} \n",
       "$( document ).ready(code_toggle);\n",
       "</script>\n",
       "The raw code for this IPython notebook is by default hidden for easier reading.\n",
       "To toggle on/off the raw code, click <a href=\"javascript:code_toggle()\">here</a>."
      ],
      "text/plain": [
       "<IPython.core.display.HTML object>"
      ]
     },
     "execution_count": 1,
     "metadata": {},
     "output_type": "execute_result"
    }
   ],
   "source": [
    "from IPython.display import HTML\n",
    "\n",
    "HTML('''<script>\n",
    "code_show=true; \n",
    "function code_toggle() {\n",
    " if (code_show){\n",
    " $('div.input').hide();\n",
    " } else {\n",
    " $('div.input').show();\n",
    " }\n",
    " code_show = !code_show\n",
    "} \n",
    "$( document ).ready(code_toggle);\n",
    "</script>\n",
    "The raw code for this IPython notebook is by default hidden for easier reading.\n",
    "To toggle on/off the raw code, click <a href=\"javascript:code_toggle()\">here</a>.''')"
   ]
  },
  {
   "cell_type": "markdown",
   "metadata": {
    "slideshow": {
     "slide_type": "slide"
    }
   },
   "source": [
    "# Analysis of the Gender Pay Gap in the UK   \n",
    " \n",
    "## By Megan Dibble"
   ]
  },
  {
   "cell_type": "markdown",
   "metadata": {
    "slideshow": {
     "slide_type": "slide"
    }
   },
   "source": [
    "- Dataset origin: 2017 mandatory requirement in UK \n",
    "    - For businesses > 250 employees   \n",
    "\n",
    "- The \"gender pay gap\" is the difference between the average earnings of men and women, expressed relative to men’s earnings   \n",
    "    - e.g. ‘women earn 15% less than men per hour’."
   ]
  },
  {
   "cell_type": "markdown",
   "metadata": {
    "slideshow": {
     "slide_type": "slide"
    }
   },
   "source": [
    "Two big questions:\n",
    "1. Is there a gender pay gap in the UK overall? (i.e. is the mean pay gap percentage = 0 or not?)\n",
    "2. Are there signficicant differences in the gender pay gap between industries?"
   ]
  },
  {
   "cell_type": "markdown",
   "metadata": {
    "slideshow": {
     "slide_type": "slide"
    }
   },
   "source": [
    "Who cares?\n",
    "- Females entering job market   \n",
    "- Company executives   \n",
    "- UK government   \n",
    "- Equal pay advocates around the world   "
   ]
  },
  {
   "cell_type": "markdown",
   "metadata": {
    "slideshow": {
     "slide_type": "skip"
    }
   },
   "source": [
    "Link to Data: https://data.gov.uk/dataset/54219db1-dd98-49d9-a383-a5978bb0aeb9/gender-pay-gap    \n"
   ]
  },
  {
   "cell_type": "markdown",
   "metadata": {
    "slideshow": {
     "slide_type": "slide"
    }
   },
   "source": [
    "## Research Design"
   ]
  },
  {
   "cell_type": "markdown",
   "metadata": {
    "slideshow": {
     "slide_type": "slide"
    }
   },
   "source": [
    "My hypothesis are:\n",
    "1. There is indeed a significant, positive gender pay gap in the UK           \n",
    "\n",
    "2. There are significant differences in the pay gap between industry groups  \n",
    "    - Finance, Insurance and Real Estate has the highest gap   "
   ]
  },
  {
   "cell_type": "markdown",
   "metadata": {
    "slideshow": {
     "slide_type": "slide"
    }
   },
   "source": [
    "Data is suited for experiment\n",
    " - no bias in reporting due to government requirement\n",
    " - large dataset representative of population"
   ]
  },
  {
   "cell_type": "markdown",
   "metadata": {
    "slideshow": {
     "slide_type": "slide"
    }
   },
   "source": [
    "Chart used to determine the industries of SIC codes:\n",
    "    \n",
    "01000-09990\tAgriculture, Forestry and Fishing   \n",
    "10000-14990\tMining   \n",
    "15000-17990\tConstruction   \n",
    "18000-19990\tnot used   \n",
    "20000-39990\tManufacturing   \n",
    "40000-49990\tTransportation, Communications, Electric, Gas and Sanitary service   \n",
    "50000-51990\tWholesale Trade   \n",
    "52000-59990\tRetail Trade   \n",
    "60000-67990\tFinance, Insurance and Real Estate   \n",
    "70000-89990\tServices   \n",
    "91000-97290\tPublic Administration   \n",
    "99000-99990\tNonclassifiable     \n",
    "    \n",
    "for a complete list of the industries in each group: https://en.wikipedia.org/wiki/Standard_Industrial_Classification"
   ]
  },
  {
   "cell_type": "markdown",
   "metadata": {
    "slideshow": {
     "slide_type": "skip"
    }
   },
   "source": [
    "## Audience "
   ]
  },
  {
   "cell_type": "markdown",
   "metadata": {
    "slideshow": {
     "slide_type": "skip"
    }
   },
   "source": [
    "This research will be valuable for UK citizens who are wanting to educate others on the gender pay gap. It will also be useful for businesses in the UK in the given industries, to see how they compare and evaluate their hiring/promotion strategies. Finally, it can be useful for females in the UK that have a choice in industries to go into, assuming that there is a significant difference in the pay gap between industries."
   ]
  },
  {
   "cell_type": "markdown",
   "metadata": {
    "slideshow": {
     "slide_type": "slide"
    }
   },
   "source": [
    "# A Quick Look at the Data"
   ]
  },
  {
   "cell_type": "code",
   "execution_count": 2,
   "metadata": {
    "slideshow": {
     "slide_type": "skip"
    }
   },
   "outputs": [],
   "source": [
    "#import libraries\n",
    "import pandas as pd\n",
    "import matplotlib.pyplot as plt\n",
    "from scipy import stats\n",
    "import numpy as np\n",
    "import math"
   ]
  },
  {
   "cell_type": "code",
   "execution_count": 3,
   "metadata": {
    "slideshow": {
     "slide_type": "skip"
    }
   },
   "outputs": [
    {
     "name": "stdout",
     "output_type": "stream",
     "text": [
      "<class 'pandas.core.frame.DataFrame'>\n",
      "RangeIndex: 10332 entries, 0 to 10331\n",
      "Data columns (total 23 columns):\n",
      "EmployerName                 10332 non-null object\n",
      "Address                      10332 non-null object\n",
      "CompanyNumber                8993 non-null object\n",
      "SicCodes                     9763 non-null object\n",
      "DiffMeanHourlyPercent        10332 non-null float64\n",
      "DiffMedianHourlyPercent      10332 non-null float64\n",
      "DiffMeanBonusPercent         10332 non-null float64\n",
      "DiffMedianBonusPercent       10332 non-null float64\n",
      "MaleBonusPercent             10332 non-null float64\n",
      "FemaleBonusPercent           10332 non-null float64\n",
      "MaleLowerQuartile            10332 non-null float64\n",
      "FemaleLowerQuartile          10332 non-null float64\n",
      "MaleLowerMiddleQuartile      10332 non-null float64\n",
      "FemaleLowerMiddleQuartile    10332 non-null float64\n",
      "MaleUpperMiddleQuartile      10332 non-null float64\n",
      "FemaleUpperMiddleQuartile    10332 non-null float64\n",
      "MaleTopQuartile              10332 non-null float64\n",
      "FemaleTopQuartile            10332 non-null float64\n",
      "CompanyLinkToGPGInfo         7651 non-null object\n",
      "ResponsiblePerson            8663 non-null object\n",
      "EmployerSize                 10332 non-null object\n",
      "CurrentName                  10332 non-null object\n",
      "SubmittedAfterTheDeadline    10332 non-null bool\n",
      "dtypes: bool(1), float64(14), object(8)\n",
      "memory usage: 1.7+ MB\n"
     ]
    }
   ],
   "source": [
    "#explore the data\n",
    "pay = pd.read_csv('UK Gender Pay Gap Data_05_06.csv',dtype = {'SicCodes':'str'})\n",
    "pay.info()"
   ]
  },
  {
   "cell_type": "code",
   "execution_count": 4,
   "metadata": {
    "slideshow": {
     "slide_type": "slide"
    }
   },
   "outputs": [
    {
     "data": {
      "text/html": [
       "<div>\n",
       "<style scoped>\n",
       "    .dataframe tbody tr th:only-of-type {\n",
       "        vertical-align: middle;\n",
       "    }\n",
       "\n",
       "    .dataframe tbody tr th {\n",
       "        vertical-align: top;\n",
       "    }\n",
       "\n",
       "    .dataframe thead th {\n",
       "        text-align: right;\n",
       "    }\n",
       "</style>\n",
       "<table border=\"1\" class=\"dataframe\">\n",
       "  <thead>\n",
       "    <tr style=\"text-align: right;\">\n",
       "      <th></th>\n",
       "      <th>EmployerName</th>\n",
       "      <th>Address</th>\n",
       "      <th>CompanyNumber</th>\n",
       "      <th>SicCodes</th>\n",
       "      <th>DiffMeanHourlyPercent</th>\n",
       "      <th>DiffMedianHourlyPercent</th>\n",
       "      <th>DiffMeanBonusPercent</th>\n",
       "      <th>DiffMedianBonusPercent</th>\n",
       "      <th>MaleBonusPercent</th>\n",
       "      <th>FemaleBonusPercent</th>\n",
       "      <th>...</th>\n",
       "      <th>FemaleLowerMiddleQuartile</th>\n",
       "      <th>MaleUpperMiddleQuartile</th>\n",
       "      <th>FemaleUpperMiddleQuartile</th>\n",
       "      <th>MaleTopQuartile</th>\n",
       "      <th>FemaleTopQuartile</th>\n",
       "      <th>CompanyLinkToGPGInfo</th>\n",
       "      <th>ResponsiblePerson</th>\n",
       "      <th>EmployerSize</th>\n",
       "      <th>CurrentName</th>\n",
       "      <th>SubmittedAfterTheDeadline</th>\n",
       "    </tr>\n",
       "  </thead>\n",
       "  <tbody>\n",
       "    <tr>\n",
       "      <td>0</td>\n",
       "      <td>\"Bryanston School\",Incorporated</td>\n",
       "      <td>Bryanston House,\\r\\nBlandford,\\r\\nDorset,\\r\\nU...</td>\n",
       "      <td>00226143</td>\n",
       "      <td>85310</td>\n",
       "      <td>18.0</td>\n",
       "      <td>28.2</td>\n",
       "      <td>0.0</td>\n",
       "      <td>0.0</td>\n",
       "      <td>0.0</td>\n",
       "      <td>0.0</td>\n",
       "      <td>...</td>\n",
       "      <td>49.2</td>\n",
       "      <td>49.2</td>\n",
       "      <td>50.8</td>\n",
       "      <td>51.5</td>\n",
       "      <td>48.5</td>\n",
       "      <td>https://www.bryanston.co.uk/employment</td>\n",
       "      <td>Nick McRobb (Bursar and Clerk to the Governors)</td>\n",
       "      <td>500 to 999</td>\n",
       "      <td>\"Bryanston School\",Incorporated</td>\n",
       "      <td>False</td>\n",
       "    </tr>\n",
       "    <tr>\n",
       "      <td>1</td>\n",
       "      <td>\"RED BAND\" CHEMICAL COMPANY, LIMITED</td>\n",
       "      <td>19, Smith's Place,\\r\\nLeith Walk,\\r\\nEdinburgh...</td>\n",
       "      <td>SC016876</td>\n",
       "      <td>47730</td>\n",
       "      <td>2.3</td>\n",
       "      <td>-2.7</td>\n",
       "      <td>15.0</td>\n",
       "      <td>37.5</td>\n",
       "      <td>15.6</td>\n",
       "      <td>66.7</td>\n",
       "      <td>...</td>\n",
       "      <td>74.6</td>\n",
       "      <td>10.3</td>\n",
       "      <td>89.7</td>\n",
       "      <td>18.1</td>\n",
       "      <td>81.9</td>\n",
       "      <td>NaN</td>\n",
       "      <td>Philip Galt (Managing Director)</td>\n",
       "      <td>250 to 499</td>\n",
       "      <td>\"RED BAND\" CHEMICAL COMPANY, LIMITED</td>\n",
       "      <td>False</td>\n",
       "    </tr>\n",
       "    <tr>\n",
       "      <td>2</td>\n",
       "      <td>118 LIMITED</td>\n",
       "      <td>Fusion Point,\\r\\nDumballs Road,\\r\\nCardiff,\\r\\...</td>\n",
       "      <td>03951948</td>\n",
       "      <td>61900</td>\n",
       "      <td>1.7</td>\n",
       "      <td>2.8</td>\n",
       "      <td>13.1</td>\n",
       "      <td>13.6</td>\n",
       "      <td>70.0</td>\n",
       "      <td>57.0</td>\n",
       "      <td>...</td>\n",
       "      <td>47.0</td>\n",
       "      <td>50.0</td>\n",
       "      <td>50.0</td>\n",
       "      <td>58.0</td>\n",
       "      <td>42.0</td>\n",
       "      <td>NaN</td>\n",
       "      <td>Emma Crowe (VP, Human Resources)</td>\n",
       "      <td>500 to 999</td>\n",
       "      <td>118 LIMITED</td>\n",
       "      <td>False</td>\n",
       "    </tr>\n",
       "    <tr>\n",
       "      <td>3</td>\n",
       "      <td>1610 LIMITED</td>\n",
       "      <td>Hestercombe House,\\r\\nCheddon Fitzpaine,\\r\\nTa...</td>\n",
       "      <td>06727055</td>\n",
       "      <td>93110</td>\n",
       "      <td>-22.0</td>\n",
       "      <td>-34.0</td>\n",
       "      <td>-47.0</td>\n",
       "      <td>-67.0</td>\n",
       "      <td>25.0</td>\n",
       "      <td>75.0</td>\n",
       "      <td>...</td>\n",
       "      <td>48.0</td>\n",
       "      <td>30.0</td>\n",
       "      <td>70.0</td>\n",
       "      <td>24.0</td>\n",
       "      <td>76.0</td>\n",
       "      <td>https://www.1610.org.uk/gender-pay-gap/</td>\n",
       "      <td>Tim Nightingale (CEO)</td>\n",
       "      <td>250 to 499</td>\n",
       "      <td>1610 LIMITED</td>\n",
       "      <td>True</td>\n",
       "    </tr>\n",
       "    <tr>\n",
       "      <td>4</td>\n",
       "      <td>1879 EVENTS MANAGEMENT LIMITED</td>\n",
       "      <td>The Sunderland Stadium Of Light,,\\r\\nSunderlan...</td>\n",
       "      <td>07743495</td>\n",
       "      <td>56210,\\r\\n70229</td>\n",
       "      <td>13.4</td>\n",
       "      <td>8.1</td>\n",
       "      <td>41.4</td>\n",
       "      <td>43.7</td>\n",
       "      <td>8.7</td>\n",
       "      <td>3.2</td>\n",
       "      <td>...</td>\n",
       "      <td>50.6</td>\n",
       "      <td>22.8</td>\n",
       "      <td>77.2</td>\n",
       "      <td>58.2</td>\n",
       "      <td>41.8</td>\n",
       "      <td>https://www.safc.com/news/club-news/2018/march...</td>\n",
       "      <td>Jo Graham (Deputy HR Manager)</td>\n",
       "      <td>250 to 499</td>\n",
       "      <td>1879 EVENTS MANAGEMENT LIMITED</td>\n",
       "      <td>False</td>\n",
       "    </tr>\n",
       "  </tbody>\n",
       "</table>\n",
       "<p>5 rows × 23 columns</p>\n",
       "</div>"
      ],
      "text/plain": [
       "                           EmployerName  \\\n",
       "0       \"Bryanston School\",Incorporated   \n",
       "1  \"RED BAND\" CHEMICAL COMPANY, LIMITED   \n",
       "2                           118 LIMITED   \n",
       "3                          1610 LIMITED   \n",
       "4        1879 EVENTS MANAGEMENT LIMITED   \n",
       "\n",
       "                                             Address CompanyNumber  \\\n",
       "0  Bryanston House,\\r\\nBlandford,\\r\\nDorset,\\r\\nU...      00226143   \n",
       "1  19, Smith's Place,\\r\\nLeith Walk,\\r\\nEdinburgh...      SC016876   \n",
       "2  Fusion Point,\\r\\nDumballs Road,\\r\\nCardiff,\\r\\...      03951948   \n",
       "3  Hestercombe House,\\r\\nCheddon Fitzpaine,\\r\\nTa...      06727055   \n",
       "4  The Sunderland Stadium Of Light,,\\r\\nSunderlan...      07743495   \n",
       "\n",
       "          SicCodes  DiffMeanHourlyPercent  DiffMedianHourlyPercent  \\\n",
       "0            85310                   18.0                     28.2   \n",
       "1            47730                    2.3                     -2.7   \n",
       "2            61900                    1.7                      2.8   \n",
       "3            93110                  -22.0                    -34.0   \n",
       "4  56210,\\r\\n70229                   13.4                      8.1   \n",
       "\n",
       "   DiffMeanBonusPercent  DiffMedianBonusPercent  MaleBonusPercent  \\\n",
       "0                   0.0                     0.0               0.0   \n",
       "1                  15.0                    37.5              15.6   \n",
       "2                  13.1                    13.6              70.0   \n",
       "3                 -47.0                   -67.0              25.0   \n",
       "4                  41.4                    43.7               8.7   \n",
       "\n",
       "   FemaleBonusPercent  ...  FemaleLowerMiddleQuartile  \\\n",
       "0                 0.0  ...                       49.2   \n",
       "1                66.7  ...                       74.6   \n",
       "2                57.0  ...                       47.0   \n",
       "3                75.0  ...                       48.0   \n",
       "4                 3.2  ...                       50.6   \n",
       "\n",
       "   MaleUpperMiddleQuartile  FemaleUpperMiddleQuartile  MaleTopQuartile  \\\n",
       "0                     49.2                       50.8             51.5   \n",
       "1                     10.3                       89.7             18.1   \n",
       "2                     50.0                       50.0             58.0   \n",
       "3                     30.0                       70.0             24.0   \n",
       "4                     22.8                       77.2             58.2   \n",
       "\n",
       "   FemaleTopQuartile                               CompanyLinkToGPGInfo  \\\n",
       "0               48.5             https://www.bryanston.co.uk/employment   \n",
       "1               81.9                                                NaN   \n",
       "2               42.0                                                NaN   \n",
       "3               76.0            https://www.1610.org.uk/gender-pay-gap/   \n",
       "4               41.8  https://www.safc.com/news/club-news/2018/march...   \n",
       "\n",
       "                                 ResponsiblePerson  EmployerSize  \\\n",
       "0  Nick McRobb (Bursar and Clerk to the Governors)    500 to 999   \n",
       "1                  Philip Galt (Managing Director)    250 to 499   \n",
       "2                 Emma Crowe (VP, Human Resources)    500 to 999   \n",
       "3                            Tim Nightingale (CEO)    250 to 499   \n",
       "4                    Jo Graham (Deputy HR Manager)    250 to 499   \n",
       "\n",
       "                            CurrentName SubmittedAfterTheDeadline  \n",
       "0       \"Bryanston School\",Incorporated                     False  \n",
       "1  \"RED BAND\" CHEMICAL COMPANY, LIMITED                     False  \n",
       "2                           118 LIMITED                     False  \n",
       "3                          1610 LIMITED                      True  \n",
       "4        1879 EVENTS MANAGEMENT LIMITED                     False  \n",
       "\n",
       "[5 rows x 23 columns]"
      ]
     },
     "execution_count": 4,
     "metadata": {},
     "output_type": "execute_result"
    }
   ],
   "source": [
    "pay.head()\n",
    "#also, only .05% of SIC codes are null\n",
    "#0 null values for DiffMeanHourlyPercent"
   ]
  },
  {
   "cell_type": "code",
   "execution_count": 5,
   "metadata": {
    "slideshow": {
     "slide_type": "slide"
    }
   },
   "outputs": [
    {
     "data": {
      "text/plain": [
       "count    10332.000000\n",
       "mean        14.372580\n",
       "std         15.095341\n",
       "min       -400.000000\n",
       "25%          5.100000\n",
       "50%         13.400000\n",
       "75%         23.000000\n",
       "max        159.000000\n",
       "Name: DiffMeanHourlyPercent, dtype: float64"
      ]
     },
     "execution_count": 5,
     "metadata": {},
     "output_type": "execute_result"
    }
   ],
   "source": [
    "pay.DiffMeanHourlyPercent.describe()"
   ]
  },
  {
   "cell_type": "code",
   "execution_count": 6,
   "metadata": {
    "slideshow": {
     "slide_type": "skip"
    }
   },
   "outputs": [
    {
     "name": "stdout",
     "output_type": "stream",
     "text": [
      "EmployerName                 0.000000\n",
      "Address                      0.000000\n",
      "CompanyNumber                0.129597\n",
      "SicCodes                     0.055072\n",
      "DiffMeanHourlyPercent        0.000000\n",
      "DiffMedianHourlyPercent      0.000000\n",
      "DiffMeanBonusPercent         0.000000\n",
      "DiffMedianBonusPercent       0.000000\n",
      "MaleBonusPercent             0.000000\n",
      "FemaleBonusPercent           0.000000\n",
      "MaleLowerQuartile            0.000000\n",
      "FemaleLowerQuartile          0.000000\n",
      "MaleLowerMiddleQuartile      0.000000\n",
      "FemaleLowerMiddleQuartile    0.000000\n",
      "MaleUpperMiddleQuartile      0.000000\n",
      "FemaleUpperMiddleQuartile    0.000000\n",
      "MaleTopQuartile              0.000000\n",
      "FemaleTopQuartile            0.000000\n",
      "CompanyLinkToGPGInfo         0.259485\n",
      "ResponsiblePerson            0.161537\n",
      "EmployerSize                 0.000000\n",
      "CurrentName                  0.000000\n",
      "SubmittedAfterTheDeadline    0.000000\n",
      "dtype: float64\n"
     ]
    }
   ],
   "source": [
    "#checking percentage of null values\n",
    "print(pay.isna().sum()/len(pay))\n",
    "\n",
    "#only .05% of SIC codes are null, so the by industry analysis will not be too affected with this large of a dataset"
   ]
  },
  {
   "cell_type": "markdown",
   "metadata": {
    "slideshow": {
     "slide_type": "slide"
    }
   },
   "source": [
    "## Analysis of Average Gender Pay Gap"
   ]
  },
  {
   "cell_type": "code",
   "execution_count": 35,
   "metadata": {
    "slideshow": {
     "slide_type": "slide"
    }
   },
   "outputs": [
    {
     "data": {
      "image/png": "[encoded data removed]",
      "text/plain": [
       "<Figure size 720x576 with 1 Axes>"
      ]
     },
     "metadata": {},
     "output_type": "display_data"
    }
   ],
   "source": [
    "#visualize the mean percentage difference in hourly wages\n",
    "plt.figure(figsize = (10,8))\n",
    "plt.hist(pay.DiffMeanHourlyPercent, bins = 50)\n",
    "plt.xlim(-100,100)\n",
    "plt.xlabel('mean hourly percentage difference',size = 16)\n",
    "plt.ylabel('frequency',size =16)\n",
    "plt.title('Average Gender Pay Gap in the UK in 2018',size = 18)\n",
    "plt.show();\n",
    "\n"
   ]
  },
  {
   "cell_type": "markdown",
   "metadata": {
    "slideshow": {
     "slide_type": "skip"
    }
   },
   "source": [
    "It's important to note here that a positive value indicates that at a given company, men earn __ % more on average per hour than women."
   ]
  },
  {
   "cell_type": "code",
   "execution_count": 8,
   "metadata": {
    "slideshow": {
     "slide_type": "skip"
    }
   },
   "outputs": [
    {
     "name": "stdout",
     "output_type": "stream",
     "text": [
      "DescribeResult(nobs=10332, minmax=(-400.0, 159.0), mean=14.372580332946187, variance=227.86932359000323, skewness=-2.379194164173365, kurtosis=70.27426647650553)\n"
     ]
    }
   ],
   "source": [
    "print(stats.describe(pay.DiffMeanHourlyPercent))"
   ]
  },
  {
   "cell_type": "markdown",
   "metadata": {
    "slideshow": {
     "slide_type": "slide"
    }
   },
   "source": [
    "Is the data normal? No\n",
    "\n",
    "- Kurtosis = 70.3 so the peak of the data is too sharp to be normal\n",
    "- The Wilcoxon test also supports that the data is not normal\n",
    "\n",
    "So, we will look at the median rather than the mean"
   ]
  },
  {
   "cell_type": "code",
   "execution_count": 9,
   "metadata": {
    "slideshow": {
     "slide_type": "skip"
    }
   },
   "outputs": [
    {
     "name": "stdout",
     "output_type": "stream",
     "text": [
      "The p-value is 0.0\n"
     ]
    }
   ],
   "source": [
    "w, p = stats.wilcoxon(pay.DiffMeanHourlyPercent.dropna())\n",
    "print('The p-value is {}'.format(p))"
   ]
  },
  {
   "cell_type": "markdown",
   "metadata": {
    "slideshow": {
     "slide_type": "skip"
    }
   },
   "source": [
    "This leads us to reject the null hypothesis and conclude that the data does not follow a normal distribution. Therefore, the median is a more robust measure of center for this data."
   ]
  },
  {
   "cell_type": "markdown",
   "metadata": {
    "slideshow": {
     "slide_type": "slide"
    }
   },
   "source": [
    "The median hourly pay gap is 13.3%.\n",
    "\n",
    "Is this significant? Or is the data so spread out that this is meaningless?   \n",
    "- Calculated the confidence interval using standard error\n",
    "- Found the median is between 13.1% and 13.6%\n",
    "\n",
    "It is significant!"
   ]
  },
  {
   "cell_type": "code",
   "execution_count": 20,
   "metadata": {
    "slideshow": {
     "slide_type": "skip"
    }
   },
   "outputs": [],
   "source": [
    "from scipy.stats import t, sem\n",
    "confidence = .95\n",
    "n = len(pay.DiffMeanHourlyPercent)\n",
    "median = pay.DiffMeanHourlyPercent.median()\n",
    "var = pay.DiffMeanHourlyPercent.var()\n",
    "se = sem(pay.DiffMeanHourlyPercent)\n",
    "critical_val = t.ppf(confidence,n-1)\n",
    "h = critical_val * se\n",
    "CI = median - h, median + h"
   ]
  },
  {
   "cell_type": "code",
   "execution_count": 21,
   "metadata": {
    "slideshow": {
     "slide_type": "skip"
    }
   },
   "outputs": [
    {
     "name": "stdout",
     "output_type": "stream",
     "text": [
      "13.155703674463481 13.64429632553652\n"
     ]
    }
   ],
   "source": [
    "print(median - h, median + h)"
   ]
  },
  {
   "cell_type": "markdown",
   "metadata": {
    "slideshow": {
     "slide_type": "slide"
    }
   },
   "source": [
    "What could be some of the reasons for this?\n",
    "- Difference in the number of men and women in higher paying positions at the same company\n",
    "- Gender bias in hiring/promotions\n",
    "- Lack of qualified women applicants to higher paying roles\n"
   ]
  },
  {
   "cell_type": "markdown",
   "metadata": {
    "slideshow": {
     "slide_type": "slide"
    }
   },
   "source": [
    "## Analysis of Gender Pay Gap by Industry Groups"
   ]
  },
  {
   "cell_type": "code",
   "execution_count": 14,
   "metadata": {
    "slideshow": {
     "slide_type": "skip"
    }
   },
   "outputs": [],
   "source": [
    "#sectioning off data\n",
    "mining = np.arange(10000,15000).astype(str).tolist()\n",
    "mining_pay = pay[pay['SicCodes'].isin(mining)].DiffMeanHourlyPercent\n",
    "\n",
    "construction = np.arange(15000,18000).astype(str).tolist()\n",
    "construction_pay = pay[pay['SicCodes'].isin(construction)].DiffMeanHourlyPercent\n",
    "\n",
    "mfg = np.arange(20000,40000).astype(str).tolist()\n",
    "mfg_pay = pay[pay['SicCodes'].isin(mfg)].DiffMeanHourlyPercent\n",
    "\n",
    "tcegs = np.arange(40000,50000).astype(str).tolist() #Transportation, Communications, Electric, Gas and Sanitary service\n",
    "tcegs_pay = pay[pay['SicCodes'].isin(tcegs)].DiffMeanHourlyPercent\n",
    "\n",
    "wholesale = np.arange(50000,52000).astype(str).tolist() \n",
    "wholesale_pay = pay[pay['SicCodes'].isin(wholesale)].DiffMeanHourlyPercent\n",
    "\n",
    "retail = np.arange(52000,60000).astype(str).tolist() \n",
    "retail_pay = pay[pay['SicCodes'].isin(retail)].DiffMeanHourlyPercent\n",
    "\n",
    "finance = np.arange(60000,70000).astype(str).tolist()\n",
    "finance_pay = pay[pay['SicCodes'].isin(finance)].DiffMeanHourlyPercent\n",
    "\n",
    "services = np.arange(70000,90000).astype(str).tolist()\n",
    "services_pay = pay[pay['SicCodes'].isin(services)].DiffMeanHourlyPercent\n",
    "\n",
    "admin = np.arange(91000,97300).astype(str).tolist()\n",
    "admin_pay = pay[pay['SicCodes'].isin(admin)].DiffMeanHourlyPercent"
   ]
  },
  {
   "cell_type": "code",
   "execution_count": 27,
   "metadata": {
    "slideshow": {
     "slide_type": "slide"
    }
   },
   "outputs": [
    {
     "data": {
      "image/png": "[encoded data removed]",
      "text/plain": [
       "<Figure size 1080x576 with 1 Axes>"
      ]
     },
     "metadata": {},
     "output_type": "display_data"
    }
   ],
   "source": [
    "#visualize the data\n",
    "import seaborn as sns\n",
    "sns.set()\n",
    "plt.figure(figsize=(15,8))\n",
    "f = sns.boxplot( data = [construction_pay,mfg_pay,mining_pay,finance_pay, services_pay, admin_pay,tcegs_pay,wholesale_pay,retail_pay ] );\n",
    "f.set(xticklabels=['construction','mfg','mining','finance','services','admin','tcegs','wholesale','retail'],ylim=(-100,100))\n",
    "plt.title ('Mean hourly wage gender pay gap by industry',size = 18)\n",
    "plt.setp(f.get_xticklabels(), rotation=90);\n"
   ]
  },
  {
   "cell_type": "code",
   "execution_count": 33,
   "metadata": {
    "slideshow": {
     "slide_type": "slide"
    }
   },
   "outputs": [
    {
     "data": {
      "image/png": "[encoded data removed]",
      "text/plain": [
       "<Figure size 720x720 with 12 Axes>"
      ]
     },
     "metadata": {},
     "output_type": "display_data"
    }
   ],
   "source": [
    "#checking if variables are normally distributed\n",
    "fig, axs = plt.subplots(3, 4, figsize=(10,10))\n",
    "axs[0,0].hist(mining_pay,bins=20)\n",
    "axs[0,0].set_title('Mining')\n",
    "axs[0,1].hist(construction_pay,bins=20)\n",
    "axs[0,1].set_title('Construction')\n",
    "axs[0,2].hist(mfg_pay,bins=20)\n",
    "axs[0,2].set_title('Mfg')\n",
    "axs[0,3].hist(tcegs_pay,bins=20)\n",
    "axs[0,3].set_title('Tcgs')\n",
    "axs[1,0].hist(finance_pay,bins=20)\n",
    "axs[1,0].set_title('Finance')\n",
    "axs[1,1].hist(services_pay,bins=20)\n",
    "axs[1,1].set_title('Services')\n",
    "axs[1,2].hist(admin_pay,bins=20)\n",
    "axs[1,2].set_title('Admin')\n",
    "axs[1,3].hist(wholesale_pay,bins=20)\n",
    "axs[1,3].set_title('Wholesale')\n",
    "axs[2,0].hist(retail_pay,bins=20)\n",
    "axs[2,0].set_title('retail')\n",
    "fig.suptitle('Distributions of pay gap for each industry',size=14)\n",
    "\n",
    "plt.show();"
   ]
  },
  {
   "cell_type": "code",
   "execution_count": 17,
   "metadata": {
    "slideshow": {
     "slide_type": "skip"
    }
   },
   "outputs": [
    {
     "data": {
      "text/plain": [
       "KruskalResult(statistic=295.9534734351328, pvalue=6.0220766557764305e-61)"
      ]
     },
     "execution_count": 17,
     "metadata": {},
     "output_type": "execute_result"
    }
   ],
   "source": [
    "#since the distributions do not all look normal, running the kruskal test to test if the distributions are the same\n",
    "stats.kruskal(construction_pay,mfg_pay,mining_pay,finance_pay,services_pay,admin_pay,wholesale_pay)"
   ]
  },
  {
   "cell_type": "markdown",
   "metadata": {
    "slideshow": {
     "slide_type": "slide"
    }
   },
   "source": [
    "Distributions do not all look normal\n",
    "- Ran the kruskal test to test if the distributions are the same\n",
    "\n",
    "Concluded: at least one variable is from a different distribution (has a different median)"
   ]
  },
  {
   "cell_type": "code",
   "execution_count": 18,
   "metadata": {
    "slideshow": {
     "slide_type": "skip"
    }
   },
   "outputs": [],
   "source": [
    "import scikit_posthocs as sp"
   ]
  },
  {
   "cell_type": "code",
   "execution_count": 32,
   "metadata": {
    "slideshow": {
     "slide_type": "skip"
    }
   },
   "outputs": [
    {
     "data": {
      "text/html": [
       "<div>\n",
       "<style scoped>\n",
       "    .dataframe tbody tr th:only-of-type {\n",
       "        vertical-align: middle;\n",
       "    }\n",
       "\n",
       "    .dataframe tbody tr th {\n",
       "        vertical-align: top;\n",
       "    }\n",
       "\n",
       "    .dataframe thead th {\n",
       "        text-align: right;\n",
       "    }\n",
       "</style>\n",
       "<table border=\"1\" class=\"dataframe\">\n",
       "  <thead>\n",
       "    <tr style=\"text-align: right;\">\n",
       "      <th></th>\n",
       "      <th>1</th>\n",
       "      <th>2</th>\n",
       "      <th>3</th>\n",
       "      <th>4</th>\n",
       "      <th>5</th>\n",
       "      <th>6</th>\n",
       "      <th>7</th>\n",
       "      <th>8</th>\n",
       "      <th>9</th>\n",
       "    </tr>\n",
       "  </thead>\n",
       "  <tbody>\n",
       "    <tr>\n",
       "      <td>1</td>\n",
       "      <td>-1.000000e+00</td>\n",
       "      <td>3.278758e-02</td>\n",
       "      <td>1.000000e+00</td>\n",
       "      <td>7.350048e-02</td>\n",
       "      <td>2.148541e-01</td>\n",
       "      <td>3.278758e-02</td>\n",
       "      <td>1.520001e-05</td>\n",
       "      <td>1.000000e+00</td>\n",
       "      <td>1.841413e-10</td>\n",
       "    </tr>\n",
       "    <tr>\n",
       "      <td>2</td>\n",
       "      <td>3.278758e-02</td>\n",
       "      <td>-1.000000e+00</td>\n",
       "      <td>2.263707e-02</td>\n",
       "      <td>1.000000e+00</td>\n",
       "      <td>2.460801e-02</td>\n",
       "      <td>1.000000e+00</td>\n",
       "      <td>3.420259e-03</td>\n",
       "      <td>6.268060e-14</td>\n",
       "      <td>3.363203e-25</td>\n",
       "    </tr>\n",
       "    <tr>\n",
       "      <td>3</td>\n",
       "      <td>1.000000e+00</td>\n",
       "      <td>2.263707e-02</td>\n",
       "      <td>-1.000000e+00</td>\n",
       "      <td>8.620554e-02</td>\n",
       "      <td>8.086713e-01</td>\n",
       "      <td>3.278758e-02</td>\n",
       "      <td>2.156674e-05</td>\n",
       "      <td>1.293741e-01</td>\n",
       "      <td>8.821759e-25</td>\n",
       "    </tr>\n",
       "    <tr>\n",
       "      <td>4</td>\n",
       "      <td>7.350048e-02</td>\n",
       "      <td>1.000000e+00</td>\n",
       "      <td>8.620554e-02</td>\n",
       "      <td>-1.000000e+00</td>\n",
       "      <td>2.105373e-01</td>\n",
       "      <td>1.000000e+00</td>\n",
       "      <td>1.044459e-03</td>\n",
       "      <td>1.856375e-12</td>\n",
       "      <td>6.213493e-34</td>\n",
       "    </tr>\n",
       "    <tr>\n",
       "      <td>5</td>\n",
       "      <td>2.148541e-01</td>\n",
       "      <td>2.460801e-02</td>\n",
       "      <td>8.086713e-01</td>\n",
       "      <td>2.105373e-01</td>\n",
       "      <td>-1.000000e+00</td>\n",
       "      <td>8.620554e-02</td>\n",
       "      <td>9.986643e-05</td>\n",
       "      <td>1.561278e-09</td>\n",
       "      <td>1.837507e-56</td>\n",
       "    </tr>\n",
       "    <tr>\n",
       "      <td>6</td>\n",
       "      <td>3.278758e-02</td>\n",
       "      <td>1.000000e+00</td>\n",
       "      <td>3.278758e-02</td>\n",
       "      <td>1.000000e+00</td>\n",
       "      <td>8.620554e-02</td>\n",
       "      <td>-1.000000e+00</td>\n",
       "      <td>5.757766e-03</td>\n",
       "      <td>1.546213e-10</td>\n",
       "      <td>1.013457e-16</td>\n",
       "    </tr>\n",
       "    <tr>\n",
       "      <td>7</td>\n",
       "      <td>1.520001e-05</td>\n",
       "      <td>3.420259e-03</td>\n",
       "      <td>2.156674e-05</td>\n",
       "      <td>1.044459e-03</td>\n",
       "      <td>9.986643e-05</td>\n",
       "      <td>5.757766e-03</td>\n",
       "      <td>-1.000000e+00</td>\n",
       "      <td>1.452294e-08</td>\n",
       "      <td>1.000000e+00</td>\n",
       "    </tr>\n",
       "    <tr>\n",
       "      <td>8</td>\n",
       "      <td>1.000000e+00</td>\n",
       "      <td>6.268060e-14</td>\n",
       "      <td>1.293741e-01</td>\n",
       "      <td>1.856375e-12</td>\n",
       "      <td>1.561278e-09</td>\n",
       "      <td>1.546213e-10</td>\n",
       "      <td>1.452294e-08</td>\n",
       "      <td>-1.000000e+00</td>\n",
       "      <td>8.900983e-70</td>\n",
       "    </tr>\n",
       "    <tr>\n",
       "      <td>9</td>\n",
       "      <td>1.841413e-10</td>\n",
       "      <td>3.363203e-25</td>\n",
       "      <td>8.821759e-25</td>\n",
       "      <td>6.213493e-34</td>\n",
       "      <td>1.837507e-56</td>\n",
       "      <td>1.013457e-16</td>\n",
       "      <td>1.000000e+00</td>\n",
       "      <td>8.900983e-70</td>\n",
       "      <td>-1.000000e+00</td>\n",
       "    </tr>\n",
       "  </tbody>\n",
       "</table>\n",
       "</div>"
      ],
      "text/plain": [
       "              1             2             3             4             5  \\\n",
       "1 -1.000000e+00  3.278758e-02  1.000000e+00  7.350048e-02  2.148541e-01   \n",
       "2  3.278758e-02 -1.000000e+00  2.263707e-02  1.000000e+00  2.460801e-02   \n",
       "3  1.000000e+00  2.263707e-02 -1.000000e+00  8.620554e-02  8.086713e-01   \n",
       "4  7.350048e-02  1.000000e+00  8.620554e-02 -1.000000e+00  2.105373e-01   \n",
       "5  2.148541e-01  2.460801e-02  8.086713e-01  2.105373e-01 -1.000000e+00   \n",
       "6  3.278758e-02  1.000000e+00  3.278758e-02  1.000000e+00  8.620554e-02   \n",
       "7  1.520001e-05  3.420259e-03  2.156674e-05  1.044459e-03  9.986643e-05   \n",
       "8  1.000000e+00  6.268060e-14  1.293741e-01  1.856375e-12  1.561278e-09   \n",
       "9  1.841413e-10  3.363203e-25  8.821759e-25  6.213493e-34  1.837507e-56   \n",
       "\n",
       "              6             7             8             9  \n",
       "1  3.278758e-02  1.520001e-05  1.000000e+00  1.841413e-10  \n",
       "2  1.000000e+00  3.420259e-03  6.268060e-14  3.363203e-25  \n",
       "3  3.278758e-02  2.156674e-05  1.293741e-01  8.821759e-25  \n",
       "4  1.000000e+00  1.044459e-03  1.856375e-12  6.213493e-34  \n",
       "5  8.620554e-02  9.986643e-05  1.561278e-09  1.837507e-56  \n",
       "6 -1.000000e+00  5.757766e-03  1.546213e-10  1.013457e-16  \n",
       "7  5.757766e-03 -1.000000e+00  1.452294e-08  1.000000e+00  \n",
       "8  1.546213e-10  1.452294e-08 -1.000000e+00  8.900983e-70  \n",
       "9  1.013457e-16  1.000000e+00  8.900983e-70 -1.000000e+00  "
      ]
     },
     "execution_count": 32,
     "metadata": {},
     "output_type": "execute_result"
    }
   ],
   "source": [
    "#dunn's test for pairwise comparison for non-parametric distributions\n",
    "#my hypothesis was that the finance industry group has a significantly higher pay gap than other industry groups\n",
    "#look in the last column to see the p-values for the finance wage gap compared to other groups\n",
    "results = sp.posthoc_dunn([construction_pay,mfg_pay,mining_pay,tcegs_pay,services_pay,admin_pay,wholesale_pay,retail_pay,finance_pay], p_adjust = 'holm')\n",
    "results\n"
   ]
  },
  {
   "cell_type": "markdown",
   "metadata": {
    "slideshow": {
     "slide_type": "slide"
    }
   },
   "source": [
    "Ran Dunn's test on all of the variables\n",
    "- there is a significant difference between the median of the finance pay gap and all other industry groups, with the exception of the wholesale trade industry group.   \n",
    "   \n",
    "From the box plot a few slides back, we can conclude that the pay gap in the finance group is indeed higher than all of the other groups besides wholesale trade.\n"
   ]
  },
  {
   "cell_type": "markdown",
   "metadata": {
    "slideshow": {
     "slide_type": "slide"
    }
   },
   "source": [
    "# Conclusion"
   ]
  },
  {
   "cell_type": "markdown",
   "metadata": {
    "slideshow": {
     "slide_type": "slide"
    }
   },
   "source": [
    "My hypothesis were:\n",
    "1. There is indeed a significant, positive gender pay gap in the UK (meaning males earn more than females)   \n",
    "2. There are significant differences in the pay gap between industries, with Finance, Insurance and Real Estate    having the largest gap   \n",
    "\n",
    "The first hypothesis was correct, while the second was mostly correct"
   ]
  },
  {
   "cell_type": "markdown",
   "metadata": {
    "slideshow": {
     "slide_type": "slide"
    }
   },
   "source": [
    "### Recommendations\n",
    "\n",
    "1. Collect more data\n",
    "   \n",
    "2. Analyze trends over time\n",
    "  \n",
    "3. Females applying to or currently in wholesale trade or finacnce sectors, be cognizant and report any discrimination experienced    \n",
    "    \n",
    "4. For further analysis, could compare companies of different sizes (with this dataset)"
   ]
  },
  {
   "cell_type": "markdown",
   "metadata": {
    "slideshow": {
     "slide_type": "notes"
    }
   },
   "source": [
    "    - segment pay gap by \"rank\" in the company\n",
    "    - if possible, the average ratio of female to male candidates \n",
    "    \n",
    "    - government can implement policy changes or incentives accordingly  \n",
    "    - businesses can adjust accordingly\n"
   ]
  },
  {
   "cell_type": "markdown",
   "metadata": {
    "slideshow": {
     "slide_type": "slide"
    }
   },
   "source": [
    "## Thank you for listening!"
   ]
  },
  {
   "cell_type": "code",
   "execution_count": null,
   "metadata": {},
   "outputs": [],
   "source": []
  }
 ],
 "metadata": {
  "celltoolbar": "Slideshow",
  "kernelspec": {
   "display_name": "Python 3",
   "language": "python",
   "name": "python3"
  },
  "language_info": {
   "codemirror_mode": {
    "name": "ipython",
    "version": 3
   },
   "file_extension": ".py",
   "mimetype": "text/x-python",
   "name": "python",
   "nbconvert_exporter": "python",
   "pygments_lexer": "ipython3",
   "version": "3.7.4"
  }
 },
 "nbformat": 4,
 "nbformat_minor": 2
}
